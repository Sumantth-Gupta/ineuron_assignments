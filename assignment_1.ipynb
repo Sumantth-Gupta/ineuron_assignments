{
  "nbformat": 4,
  "nbformat_minor": 0,
  "metadata": {
    "colab": {
      "provenance": [],
      "collapsed_sections": [],
      "authorship_tag": "ABX9TyP3A5d/1t4btI+4qSyaz4lh",
      "include_colab_link": true
    },
    "kernelspec": {
      "name": "python3",
      "display_name": "Python 3"
    },
    "language_info": {
      "name": "python"
    }
  },
  "cells": [
    {
      "cell_type": "markdown",
      "metadata": {
        "id": "view-in-github",
        "colab_type": "text"
      },
      "source": [
        "<a href=\"https://colab.research.google.com/github/Sumantth-Gupta/ineuron_assignments/blob/main/assignment_1.ipynb\" target=\"_parent\"><img src=\"https://colab.research.google.com/assets/colab-badge.svg\" alt=\"Open In Colab\"/></a>"
      ]
    },
    {
      "cell_type": "markdown",
      "source": [
        "#1. In the below elements which of them are values or an expression? eg:- values can be\n",
        "integer or string and expressions will be mathematical operators.*\n",
        "&#39;hello&#39;\n",
        "-87.8\n",
        "-\n",
        "/\n",
        "  +\n",
        "6"
      ],
      "metadata": {
        "id": "VtIDrWtWcTGZ"
      }
    },
    {
      "cell_type": "markdown",
      "source": [
        "#Answer :\n",
        "from the above mentioned elements values and expressions are classified as mentioned in below\n",
        "\n",
        "Value -> 'hello' , -87.8 , 6\n",
        "expressions -> * , / , + , -\n",
        "\n"
      ],
      "metadata": {
        "id": "8Cr_TLYxce4a"
      }
    },
    {
      "cell_type": "markdown",
      "source": [
        "#2. What is the difference between string and variable?"
      ],
      "metadata": {
        "id": "Q59iF7u0drRp"
      }
    },
    {
      "cell_type": "markdown",
      "source": [
        "Variable : variable can be anything that starts with _/alphabet and a variable \n",
        "can be alphanumeric.\n",
        "*   Variable is used to store values in it values can be of any datatype.\n",
        "*   variable act as memory location for those values where we can use those values by calling the variables.\n",
        "\n",
        "String : String is a datatype which is enclosed within the quotes it contains alphabets and numbers (alphanumeric), if numbers are not mentioned with in quotes then it doesn't come under a string datatype.\n",
        "\n",
        "*   A value to be qualified as a string it should be enclosed in quotes.\n",
        "\n"
      ],
      "metadata": {
        "id": "TZ32BGOJeHev"
      }
    },
    {
      "cell_type": "markdown",
      "source": [
        "#3. Describe three different data types."
      ],
      "metadata": {
        "id": "noOcXevsgYAO"
      }
    },
    {
      "cell_type": "markdown",
      "source": [
        "Three Different datatypes in python are:\n",
        "\n",
        "Integer : This datatype accepts only numbers without decimals.\n",
        "\n",
        "*   In short form it is called as int.\n",
        "\n",
        "List : This accepts numbers and alphabets and it is used to store multiple values in one variable.\n",
        "\n",
        "*   values are enclosed with sqaure brackets (\"[]\")\n",
        "\n",
        "\n",
        "\n",
        "Dictionary : In this type of datatype we store elements in key,values pair format where we give key to access the values inside it.\n",
        "\n",
        "\n",
        "1.  values are enclosed within flower bracket (\"{}\")\n",
        "\n",
        "\n",
        "\n",
        "Example of above 3 datatypes are below.\n"
      ],
      "metadata": {
        "id": "4PJtDu0YgvH2"
      }
    },
    {
      "cell_type": "code",
      "source": [
        "a=8\n",
        "b=[5,4,545,'ineuron','assignment']\n",
        "c={'ineuron':'assignment','assignmnet':'one'}\n",
        "print(type(a),\"\\n\",type(b),\"\\n\",type(c))"
      ],
      "metadata": {
        "colab": {
          "base_uri": "https://localhost:8080/"
        },
        "id": "IOTVqdlJiz9Y",
        "outputId": "73b0ca2e-4e3d-4e9d-94fe-285dbb0d580b"
      },
      "execution_count": 10,
      "outputs": [
        {
          "output_type": "stream",
          "name": "stdout",
          "text": [
            "<class 'int'> \n",
            " <class 'list'> \n",
            " <class 'dict'>\n"
          ]
        }
      ]
    },
    {
      "cell_type": "markdown",
      "source": [
        "#4. What is an expression made up of? What do all expressions do?"
      ],
      "metadata": {
        "id": "z5RJeuiXgvTT"
      }
    },
    {
      "cell_type": "markdown",
      "source": [
        "Expression is combination of operands and operators.\n",
        "ex : k=a+1\n",
        "from above example k is variable, a is operand and + is operator\n",
        "Basically all expressions represent a value\n"
      ],
      "metadata": {
        "id": "b65THQKIkIad"
      }
    },
    {
      "cell_type": "markdown",
      "source": [
        "# 5. This assignment statements, like spam = 10. What is the difference between expression and a statement?"
      ],
      "metadata": {
        "id": "gWqVUUIPXwLe"
      }
    },
    {
      "cell_type": "markdown",
      "source": [
        "Expression : Combination of operators,object and values after interpretation which in turn produces a new value is called Expression\n",
        "\n",
        "Statement : A statement is which gets executed and tells the computer to perform a task \n"
      ],
      "metadata": {
        "id": "pW6qPGvGY0V_"
      }
    },
    {
      "cell_type": "markdown",
      "source": [
        "#6. After running the following code, what does the variable bacon contain?\n",
        "bacon = 22\n",
        "bacon + 1"
      ],
      "metadata": {
        "id": "dOeaKG1mvAz8"
      }
    },
    {
      "cell_type": "markdown",
      "source": [
        "Ans : 23 "
      ],
      "metadata": {
        "id": "pYlSKQOovQ9t"
      }
    },
    {
      "cell_type": "markdown",
      "source": [
        "#7. What should the values of the following two terms be?\n",
        "\n",
        "In this the 1st set of element concatenates with the 2nd set of element \n",
        "&#39;spam&#39; + &#39;spamspam&#39; = spamspamspam\n",
        "\n",
        "in this the string is repeated 3 times\n",
        "&#39;spam&#39; * 3 = spamspamspam"
      ],
      "metadata": {
        "id": "K4u5NePyvcp5"
      }
    },
    {
      "cell_type": "markdown",
      "source": [
        "#8. Why is eggs a valid variable name while 100 is invalid?\n",
        "Ans : To declare a variable we have a set rules which we have to folllow while writing it.\n",
        "\n",
        "1.   variable should start with _(underscore) or alphabet\n",
        "2.   keyword cannot a variable name\n",
        "3. Variable cannot be blank\n",
        "\n",
        "100 is invalid variable name because it starts with number,\n",
        "eggs is valid because it satisfies the rule 1 mentioned above.\n",
        "\n"
      ],
      "metadata": {
        "id": "_CI9qk2Avciq"
      }
    },
    {
      "cell_type": "markdown",
      "source": [
        "#9. What three functions can be used to get the integer, floating-point number, or string version of a value?\n",
        "Ans : To convert a value to int we use int(value/variable) , float(value/variable) to covert to float and str(value/variable) to convert to string.\n",
        "a=99.9\n",
        "int(a) -> 99\n",
        "float(a) -> 99.9\n",
        "str(a) -> '99.9'"
      ],
      "metadata": {
        "id": "N8ZBdZiL2KJJ"
      }
    },
    {
      "cell_type": "markdown",
      "source": [
        "#10. Why does this expression cause an error? How can you fix it?\n",
        "\n",
        "###&#39;I have eaten &#39; + 99 + &#39; burritos.&#39;\n",
        "Ans: It throws an error called cannot concatenate string with integer because \"+\" works as addition when used with intergers/numbers, and if strings are used it works as concatination.\n",
        "\n",
        "In the above mentioned expression there are integers and string so that's the reason it is throwing an error, to fix it we just have to convert the int to str that would solve the issue\n",
        "\n",
        "'I have eaten'+'99'+'burritos'"
      ],
      "metadata": {
        "id": "zeoVrT-txXdA"
      }
    }
  ]
}